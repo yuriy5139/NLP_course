{
  "nbformat": 4,
  "nbformat_minor": 0,
  "metadata": {
    "colab": {
      "provenance": []
    },
    "kernelspec": {
      "name": "python3",
      "display_name": "Python 3"
    },
    "language_info": {
      "name": "python"
    }
  },
  "cells": [
    {
      "cell_type": "code",
      "execution_count": 1,
      "metadata": {
        "id": "l5HBYCOxyHmv"
      },
      "outputs": [],
      "source": [
        "!pip install -q transformers"
      ]
    },
    {
      "cell_type": "code",
      "source": [
        "!pip install -q pyTelegramBotAPI"
      ],
      "metadata": {
        "id": "YU_G7ZTvyghd"
      },
      "execution_count": 2,
      "outputs": []
    },
    {
      "cell_type": "code",
      "source": [
        "from transformers import pipeline\n",
        "import telebot"
      ],
      "metadata": {
        "id": "eaxDrsk3yOfI"
      },
      "execution_count": 3,
      "outputs": []
    },
    {
      "cell_type": "code",
      "source": [
        "API_TOKEN = \"Please use your token\""
      ],
      "metadata": {
        "id": "j8V_vIZ_zu5g"
      },
      "execution_count": 4,
      "outputs": []
    },
    {
      "cell_type": "code",
      "source": [
        "model_checkpoint = \"consciousAI/question-answering-roberta-base-s\""
      ],
      "metadata": {
        "id": "wguztK_33nCT"
      },
      "execution_count": 5,
      "outputs": []
    },
    {
      "cell_type": "code",
      "source": [
        "context = \"\"\"\n",
        "First Law: A robot may not injure a human being or, through inaction, allow a human being to come to harm.\n",
        "Second Law: A robot must obey the orders given it by human beings except where such orders would conflict with the First Law.\n",
        "Third Law: A robot must protect its own existence as long as such protection does not conflict with the First or Second Law.\n",
        "\"\"\"\n",
        "question_answerer = pipeline(\"question-answering\", model=model_checkpoint)"
      ],
      "metadata": {
        "id": "AE3zaw3k2bxw"
      },
      "execution_count": 6,
      "outputs": []
    },
    {
      "cell_type": "code",
      "source": [
        "bot = telebot.TeleBot(API_TOKEN)"
      ],
      "metadata": {
        "id": "-lMwJGS0y81R"
      },
      "execution_count": 7,
      "outputs": []
    },
    {
      "cell_type": "code",
      "source": [
        "@bot.message_handler(commands=['start', 'hello'])\n",
        "def send_welcome(message):\n",
        "    bot.reply_to(message, \"Please ask your question about laws of robotics\")"
      ],
      "metadata": {
        "id": "aU5Iqgu83-aC"
      },
      "execution_count": 8,
      "outputs": []
    },
    {
      "cell_type": "code",
      "source": [
        "@bot.message_handler(func=lambda message: True)\n",
        "def answer_question(message):\n",
        "  answer = question_answerer(question=message.text, context=context)\n",
        "  bot.reply_to(message, answer['answer'])\n",
        "  return"
      ],
      "metadata": {
        "id": "z44ZKTfcz4d-"
      },
      "execution_count": 9,
      "outputs": []
    },
    {
      "cell_type": "code",
      "source": [
        "bot.infinity_polling()"
      ],
      "metadata": {
        "id": "9PImsNAe1o-q"
      },
      "execution_count": null,
      "outputs": []
    }
  ]
}
